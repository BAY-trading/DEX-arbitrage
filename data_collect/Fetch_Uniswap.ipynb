{
 "cells": [
  {
   "cell_type": "code",
   "execution_count": 1,
   "metadata": {},
   "outputs": [],
   "source": [
    "from shroomdk import ShroomDK\n",
    "\n",
    "# Initialize `ShroomDK` with your API Key\n",
    "sdk = ShroomDK(\"ce7ee339-c712-4e83-a06b-6039a058ca43\")"
   ]
  },
  {
   "cell_type": "code",
   "execution_count": 39,
   "metadata": {},
   "outputs": [],
   "source": [
    "from datetime import datetime\n",
    "import pandas as pd\n",
    "\n",
    "# DAILY QUERY RUN LIMIT 10000\n",
    "# BURST QUERY RUN LIMIT 250 (maybe 5miniutes?)\n",
    "# DATE_FORMAT ='%Y-%m-%d %H:%M:%S'\n",
    "\n",
    "dex_list = { \n",
    "    'ether' : {\n",
    "        'uniswap_v3' : 'ethereum.uniswapv3.ez_swaps' \n",
    "    }\n",
    "}\n",
    "df_list = {}\n",
    "\n",
    "\n",
    "def querying_pagination(query_string):\n",
    "    result_list = []\n",
    "    for i in range(1,11): # max is a million rows @ 100k per page\n",
    "        data=sdk.query(query_string,page_size=100000,page_number=i)\n",
    "        if data.run_stats.record_count == 0:  \n",
    "            break\n",
    "        else:\n",
    "            result_list.append(data.records)\n",
    "        \n",
    "    # Loops through the returned results and adds into a pandas dataframe\n",
    "    result_df=pd.DataFrame()\n",
    "    for idx, each_list in enumerate(result_list):\n",
    "        if idx == 0:\n",
    "            result_df=pd.json_normalize(each_list)\n",
    "        else:\n",
    "            result_df=pd.concat([result_df, pd.json_normalize(each_list)])\n",
    "\n",
    "    return result_df\n",
    "\n",
    "\n",
    "\n",
    "def querying_swap(start_date,end_date,chain='ether',dex='uniswap_v3'):\n",
    "    sql = f\"\"\"\n",
    "        SELECT * \n",
    "        FROM {dex_list[chain][dex]}\n",
    "        WHERE BLOCK_TIMESTAMP >= '{start_date}' AND BLOCK_TIMESTAMP <= '{end_date}'\n",
    "        ORDER BY BLOCK_TIMESTAMP\n",
    "    \"\"\"\n",
    "    df = querying_pagination(sql)\n",
    "    if chain not in df_list:\n",
    "        df_list[chain]={}\n",
    "    if dex in df_list[chain]:\n",
    "        df_list[chain][dex] = pd.concat([df_list[chain][dex], df])\n",
    "        df_list[chain][dex].drop_duplicates(inplace=True)\n",
    "        df_list[chain][dex].sort_values('block_timestamp')\n",
    "        df_list[chain][dex].reset_index(drop=True,inplace=True)\n",
    "    else:\n",
    "        df_list[chain][dex]=df        \n",
    "            \n"
   ]
  },
  {
   "cell_type": "code",
   "execution_count": 43,
   "metadata": {},
   "outputs": [],
   "source": [
    "querying_swap(start_date = '2023-04-03 18:00:11',end_date = '2023-04-03 19:00:11')"
   ]
  },
  {
   "cell_type": "code",
   "execution_count": null,
   "metadata": {},
   "outputs": [],
   "source": []
  },
  {
   "cell_type": "code",
   "execution_count": 47,
   "metadata": {},
   "outputs": [
    {
     "data": {
      "text/plain": [
       "block_number  token0_symbol  token1_symbol\n",
       "16970129      BLUR           USDC             1\n",
       "                             WETH             1\n",
       "              SOV            WETH             2\n",
       "              TRG            WETH             1\n",
       "              USDC           WETH             1\n",
       "                                             ..\n",
       "16970426      UNI            WETH             1\n",
       "              USDC           USDT             1\n",
       "                             WETH             1\n",
       "              WETH           FUND             1\n",
       "                             USDT             3\n",
       "Name: blockchain, Length: 1861, dtype: int64"
      ]
     },
     "execution_count": 47,
     "metadata": {},
     "output_type": "execute_result"
    }
   ],
   "source": [
    "df_list['ether']['uniswap_v3'].groupby(['block_number','token0_symbol','token1_symbol']).count()['blockchain']"
   ]
  }
 ],
 "metadata": {
  "kernelspec": {
   "display_name": "Python 3",
   "language": "python",
   "name": "python3"
  },
  "language_info": {
   "codemirror_mode": {
    "name": "ipython",
    "version": 3
   },
   "file_extension": ".py",
   "mimetype": "text/x-python",
   "name": "python",
   "nbconvert_exporter": "python",
   "pygments_lexer": "ipython3",
   "version": "3.11.0"
  },
  "orig_nbformat": 4
 },
 "nbformat": 4,
 "nbformat_minor": 2
}
